{
 "cells": [
  {
   "cell_type": "markdown",
   "id": "ad77e82b-7536-4f42-88e8-e0f08bcc69b4",
   "metadata": {},
   "source": [
    "## list 列表"
   ]
  },
  {
   "cell_type": "markdown",
   "id": "1b8b9fb5-be11-4e0d-acf6-2dceec8ebab4",
   "metadata": {},
   "source": [
    "列表是Python中的最基础的数据结构，列表中的元素并不需要是相同的数据类型。"
   ]
  },
  {
   "cell_type": "code",
   "execution_count": 13,
   "id": "8619a3f6-e464-42ab-9c67-17de05000ad8",
   "metadata": {},
   "outputs": [
    {
     "name": "stdout",
     "output_type": "stream",
     "text": [
      "[1, 2, 3, 'four', 5]\n"
     ]
    }
   ],
   "source": [
    "five = 5\n",
    "\n",
    "listOne = [1, 2, 3, \"four\", five]\n",
    "\n",
    "print(listOne)"
   ]
  },
  {
   "cell_type": "markdown",
   "id": "aa2987c9-f42b-4380-90e6-fa48d9d2b62f",
   "metadata": {},
   "source": [
    "与字符串的索引一样，列表的索引从0开始，并且列表可以进行截取。"
   ]
  },
  {
   "cell_type": "code",
   "execution_count": 14,
   "id": "9d63000c-51fd-40c7-b80f-3b72f590ae2e",
   "metadata": {},
   "outputs": [
    {
     "name": "stdout",
     "output_type": "stream",
     "text": [
      "1\n",
      "[2, 3]\n"
     ]
    }
   ],
   "source": [
    "print(listOne[0])\n",
    "\n",
    "print(listOne[1:3])"
   ]
  },
  {
   "cell_type": "code",
   "execution_count": 15,
   "id": "a06a333a-9810-447a-92c8-54e21a3c6ad9",
   "metadata": {},
   "outputs": [
    {
     "name": "stdout",
     "output_type": "stream",
     "text": [
      "[2, 'four']\n"
     ]
    }
   ],
   "source": [
    "print(listOne[1:4:2])"
   ]
  },
  {
   "cell_type": "markdown",
   "id": "70a73786-b315-4bac-b71f-b48ede34b275",
   "metadata": {},
   "source": [
    "我们可以使用append()函数来向一个列表的最后添加一个新的元素："
   ]
  },
  {
   "cell_type": "code",
   "execution_count": 16,
   "id": "b5d7a9b4-23ae-4592-a3f6-a48ebbb629fd",
   "metadata": {},
   "outputs": [
    {
     "name": "stdout",
     "output_type": "stream",
     "text": [
      "['One']\n"
     ]
    }
   ],
   "source": [
    "listTwo = []\n",
    "\n",
    "listTwo.append(\"One\")\n",
    "print(listTwo)"
   ]
  },
  {
   "cell_type": "markdown",
   "id": "ee538754-29ea-455b-a3e1-297d0cf66e73",
   "metadata": {},
   "source": [
    "或者我们可以使用del来删除列表中的元素："
   ]
  },
  {
   "cell_type": "code",
   "execution_count": 17,
   "id": "d3b6eac9-77c4-482c-8bde-f2b48031bd3b",
   "metadata": {},
   "outputs": [
    {
     "name": "stdout",
     "output_type": "stream",
     "text": [
      "[1, 3, 4]\n"
     ]
    }
   ],
   "source": [
    "listThree = [1, 2, 3, 4]\n",
    "\n",
    "del listThree[1]\n",
    "print(listThree)"
   ]
  },
  {
   "cell_type": "markdown",
   "id": "a7c52d05-1dfe-4523-8774-4f97a0e4c11d",
   "metadata": {},
   "source": [
    "或者我们可以使用remove()函数来移除制定的元素："
   ]
  },
  {
   "cell_type": "code",
   "execution_count": 18,
   "id": "0f7f0bc2-ac00-4721-9903-6ae57945e62e",
   "metadata": {},
   "outputs": [
    {
     "name": "stdout",
     "output_type": "stream",
     "text": [
      "[1, 3]\n"
     ]
    }
   ],
   "source": [
    "listThree.remove(4)\n",
    "\n",
    "print(listThree)"
   ]
  },
  {
   "cell_type": "markdown",
   "id": "de7c3b56-7a87-4141-a2e7-940fb203d6c8",
   "metadata": {},
   "source": [
    "我们可以使用max()和min()两个函数来查找list中的最大值和最小值："
   ]
  },
  {
   "cell_type": "code",
   "execution_count": 19,
   "id": "53e90844-e155-4f29-8596-bbd9a83167a2",
   "metadata": {},
   "outputs": [
    {
     "name": "stdout",
     "output_type": "stream",
     "text": [
      "10\n",
      "1\n"
     ]
    }
   ],
   "source": [
    "listFour = [1, 2, 3, 4, 5, 6, 7, 8, 9, 10]\n",
    "\n",
    "print(max(listFour))\n",
    "print(min(listFour))"
   ]
  },
  {
   "cell_type": "markdown",
   "id": "65da6ea3-73ac-4b83-bc29-52fba2efeac4",
   "metadata": {},
   "source": [
    "我们还可以使用sun()来对list中的所有元素进行求和。"
   ]
  },
  {
   "cell_type": "code",
   "execution_count": 20,
   "id": "a004838c-0633-4a52-85ab-ff1087f050a2",
   "metadata": {},
   "outputs": [
    {
     "name": "stdout",
     "output_type": "stream",
     "text": [
      "55\n"
     ]
    }
   ],
   "source": [
    "print(sum(listFour))"
   ]
  },
  {
   "cell_type": "markdown",
   "id": "e230d5e1-74e7-44e5-b1d6-e96fe2034807",
   "metadata": {},
   "source": [
    "我们可以将for循环和list进行相互结合："
   ]
  },
  {
   "cell_type": "code",
   "execution_count": 21,
   "id": "e70a13bc-90f9-4630-989c-617175b33fba",
   "metadata": {},
   "outputs": [
    {
     "name": "stdout",
     "output_type": "stream",
     "text": [
      "15\n"
     ]
    }
   ],
   "source": [
    "listFive = [1, 2, 3, 4, 5]\n",
    "\n",
    "sum = 0\n",
    "for num in listFive:\n",
    "    sum = sum+num\n",
    "\n",
    "print(sum)"
   ]
  },
  {
   "cell_type": "markdown",
   "id": "7d1b4417-4a3f-474f-8572-d270220b4e5e",
   "metadata": {},
   "source": [
    "我们可以使用for循环来实现一个冒泡排序："
   ]
  },
  {
   "cell_type": "code",
   "execution_count": 22,
   "id": "83119b0e-d0ec-4e9b-b8c2-234b0d6cb9d6",
   "metadata": {},
   "outputs": [
    {
     "name": "stdout",
     "output_type": "stream",
     "text": [
      "[1, 2, 3, 4, 5, 7, 8, 9]\n"
     ]
    }
   ],
   "source": [
    "listSix = [5, 2, 3, 4, 1, 8, 7, 9]\n",
    "\n",
    "# 对listSix进行遍历\n",
    "for i in range(len(listSix)):\n",
    "    for j in range(0, len(listSix)-i-1):\n",
    "        if listSix[j] > listSix[j+1]:\n",
    "            listSix[j], listSix[j+1] = listSix[j+1], listSix[j]\n",
    "\n",
    "print(listSix)"
   ]
  },
  {
   "cell_type": "markdown",
   "id": "5377fb52-b2f3-4da8-8ffe-69811e1b826b",
   "metadata": {},
   "source": [
    "不过Python也提供了内置的排序函数sorted()"
   ]
  },
  {
   "cell_type": "code",
   "execution_count": 23,
   "id": "a1845b8c-303b-4532-8673-98664c7a7028",
   "metadata": {},
   "outputs": [
    {
     "name": "stdout",
     "output_type": "stream",
     "text": [
      "[9, 8, 7, 5, 4, 3, 2, 1]\n"
     ]
    }
   ],
   "source": [
    "listSeven = [5, 2, 3, 4, 1, 8, 7, 9]\n",
    "\n",
    "print(sorted(listSeven, reverse = True))"
   ]
  },
  {
   "cell_type": "markdown",
   "id": "50bbe3f0-a910-4f73-b292-936e83281283",
   "metadata": {},
   "source": [
    "或者我们使用sort()函数："
   ]
  },
  {
   "cell_type": "code",
   "execution_count": 24,
   "id": "988eebf5-11a0-4b3f-a3b6-f56fec8bab23",
   "metadata": {},
   "outputs": [
    {
     "name": "stdout",
     "output_type": "stream",
     "text": [
      "[9, 8, 7, 5, 4, 3, 2, 1]\n"
     ]
    }
   ],
   "source": [
    "listEight = [5, 2, 3, 4, 1, 8, 7, 9]\n",
    "\n",
    "listEight.sort(reverse=True)\n",
    "print(listEight)"
   ]
  },
  {
   "cell_type": "markdown",
   "id": "d6e62658-119c-422c-8508-f30cb8a2ebd7",
   "metadata": {},
   "source": [
    "我们可以将while循环和list进行相互结合："
   ]
  },
  {
   "cell_type": "code",
   "execution_count": 25,
   "id": "2247869a-9aed-43cd-88ba-ad0a02b614f9",
   "metadata": {},
   "outputs": [
    {
     "name": "stdout",
     "output_type": "stream",
     "text": [
      "You can enter 'n' to stop entering.\n"
     ]
    },
    {
     "name": "stdin",
     "output_type": "stream",
     "text": [
      "Please enter the name of student:  a\n",
      "Next name?: b\n",
      "Next name?: c\n",
      "Next name?: d\n",
      "Next name?: r\n",
      "Next name?: f\n",
      "Next name?: n\n"
     ]
    },
    {
     "name": "stdout",
     "output_type": "stream",
     "text": [
      "In that class, the are ['a', 'b', 'c', 'd', 'r', 'f']\n"
     ]
    }
   ],
   "source": [
    "class_name_list = []\n",
    "\n",
    "print(\"You can enter 'n' to stop entering.\")\n",
    "name = input(\"Please enter the name of student: \")\n",
    "\n",
    "while name != \"n\":\n",
    "    class_name_list.append(name)\n",
    "    name = input(\"Next name?:\")\n",
    "\n",
    "print(f'In that class, the are {class_name_list}')"
   ]
  },
  {
   "cell_type": "markdown",
   "id": "4270b448-8263-4868-aea5-e09c6325c6fc",
   "metadata": {},
   "source": [
    "通过while循环，我们可以让用户进行不断的输入，直到用户决定停止输入。"
   ]
  },
  {
   "cell_type": "markdown",
   "id": "2b4be06f-5e74-404a-b958-fc2ca7161b6e",
   "metadata": {},
   "source": [
    "## dictionary 字典"
   ]
  }
 ],
 "metadata": {
  "kernelspec": {
   "display_name": "Python 3 (ipykernel)",
   "language": "python",
   "name": "python3"
  },
  "language_info": {
   "codemirror_mode": {
    "name": "ipython",
    "version": 3
   },
   "file_extension": ".py",
   "mimetype": "text/x-python",
   "name": "python",
   "nbconvert_exporter": "python",
   "pygments_lexer": "ipython3",
   "version": "3.10.4"
  }
 },
 "nbformat": 4,
 "nbformat_minor": 5
}
