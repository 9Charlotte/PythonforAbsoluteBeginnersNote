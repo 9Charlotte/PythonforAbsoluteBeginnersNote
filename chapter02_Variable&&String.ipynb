{
 "cells": [
  {
   "cell_type": "markdown",
   "id": "777773b1-7e9c-4347-b831-9e29a418db25",
   "metadata": {},
   "source": [
    "## PRINT FUNCTION"
   ]
  },
  {
   "cell_type": "markdown",
   "id": "7c47752d-3723-477e-bb46-9ae40f0a2962",
   "metadata": {},
   "source": [
    "需要学习的第一个函数是print()。\n",
    "\n",
    "print()函数会打印括号中的内容。"
   ]
  },
  {
   "cell_type": "code",
   "execution_count": 1,
   "id": "fe6e98c8-183a-46ce-a6fa-8b682cf27fdf",
   "metadata": {},
   "outputs": [
    {
     "name": "stdout",
     "output_type": "stream",
     "text": [
      "Hello World\n",
      "114514\n"
     ]
    }
   ],
   "source": [
    "# 打印hello world\n",
    "print(\"Hello World\")\n",
    "\n",
    "# 或者打印一个变量的值\n",
    "num = 114514\n",
    "print(num)"
   ]
  },
  {
   "cell_type": "markdown",
   "id": "f31f3d3c-fe76-4651-8953-9c1037d9dc4b",
   "metadata": {},
   "source": [
    "或者我们也能够让括号中的内容先进行计算，然后打印出来："
   ]
  },
  {
   "cell_type": "code",
   "execution_count": 2,
   "id": "ff46b76a-02ec-487f-8b6f-07c76d3487ce",
   "metadata": {},
   "outputs": [
    {
     "name": "stdout",
     "output_type": "stream",
     "text": [
      "6\n"
     ]
    }
   ],
   "source": [
    "print(3+3)"
   ]
  },
  {
   "cell_type": "markdown",
   "id": "b63990e9-a18a-4f5e-b654-2f9ddb5068ca",
   "metadata": {},
   "source": [
    "需要注意的地方在于，python语言无法打印无限循环或者无限不循环小数，这是计算机自身决定的。"
   ]
  },
  {
   "cell_type": "code",
   "execution_count": null,
   "id": "84d4fce8-77ee-4aef-adfe-4e21636bf7d0",
   "metadata": {},
   "outputs": [
    {
     "name": "stdout",
     "output_type": "stream",
     "text": [
      "2.3333333333333335\n"
     ]
    }
   ],
   "source": [
    "print(7/3)"
   ]
  },
  {
   "cell_type": "markdown",
   "id": "25e1c444-55e2-4f40-b094-49e9d54752f3",
   "metadata": {},
   "source": [
    "语句可以使用“”双引号一或者是''单引号："
   ]
  },
  {
   "cell_type": "code",
   "execution_count": 12,
   "id": "71f3d1dd-1d90-4026-b5ab-b8e78f28a314",
   "metadata": {},
   "outputs": [
    {
     "name": "stdout",
     "output_type": "stream",
     "text": [
      "Hello World\n",
      "Hello WOrld\n",
      "He says \"Hello World\"\n"
     ]
    }
   ],
   "source": [
    "print(\"Hello World\")\n",
    "print('Hello WOrld')\n",
    "print('He says \"Hello World\"')"
   ]
  },
  {
   "cell_type": "markdown",
   "id": "45b16c12-71c9-4710-81aa-c086fe37d6d1",
   "metadata": {},
   "source": [
    "我们还可以考虑以下转义符号："
   ]
  },
  {
   "cell_type": "code",
   "execution_count": 17,
   "id": "b5c43a46-dc37-475d-83e9-6c718f6a0fc8",
   "metadata": {},
   "outputs": [
    {
     "name": "stdout",
     "output_type": "stream",
     "text": [
      "how's it goging?\n"
     ]
    }
   ],
   "source": [
    "print(\"how\\'s it goging?\")"
   ]
  },
  {
   "cell_type": "markdown",
   "id": "bfe75f89-935d-4960-b025-99ea799cfee9",
   "metadata": {},
   "source": [
    "\\ 会告诉Python语言进行忽视。"
   ]
  },
  {
   "cell_type": "markdown",
   "id": "5fee9014-a47b-4327-ae22-3a96dec0af24",
   "metadata": {},
   "source": [
    "如果什么都不想打印，而仅仅是想要留下语句来提醒以下自己，可以使用注释功能："
   ]
  },
  {
   "cell_type": "code",
   "execution_count": 15,
   "id": "ae2308e6-1195-4453-861c-f5838a4f6ad7",
   "metadata": {},
   "outputs": [
    {
     "name": "stdout",
     "output_type": "stream",
     "text": [
      "注释\n"
     ]
    }
   ],
   "source": [
    "# 这是一个注释\n",
    "\n",
    "\"\"\" \n",
    "这是一连串的注释\n",
    "可以非常多行\n",
    "\"\"\"\n",
    "\n",
    "print(\"注释\")"
   ]
  },
  {
   "cell_type": "markdown",
   "id": "7cbee32f-f005-4294-869a-709e8fd2958d",
   "metadata": {},
   "source": [
    "## 几个运算符"
   ]
  },
  {
   "cell_type": "markdown",
   "id": "bf39dd84-b143-448c-a2cd-a5f73001f4c3",
   "metadata": {},
   "source": [
    "在python语言中，四则运算与数学书写并无不同：\n",
    "\n",
    "1. 加：+\n",
    "2. 减：-\n",
    "3. 乘：*\n",
    "4. 除：/\n",
    "\n",
    "例子如下所示："
   ]
  },
  {
   "cell_type": "code",
   "execution_count": 6,
   "id": "713a1e1b-9242-4496-b9c0-c7a5c40ee431",
   "metadata": {},
   "outputs": [
    {
     "name": "stdout",
     "output_type": "stream",
     "text": [
      "2\n",
      "0\n",
      "6\n",
      "1.5\n"
     ]
    }
   ],
   "source": [
    "print(1+1)\n",
    "print(1-1)\n",
    "print(2*3)\n",
    "print(3/2)"
   ]
  },
  {
   "cell_type": "markdown",
   "id": "8f52c7a6-496e-4261-b017-8a543ae807d9",
   "metadata": {},
   "source": [
    "无法整除的时候会使用的两种符号：\n",
    "\n",
    "1. 取商：//\n",
    "2. 取余：%\n",
    "\n",
    "例子如下所是："
   ]
  },
  {
   "cell_type": "code",
   "execution_count": 7,
   "id": "81ca2992-fe9e-4142-9039-93af3d86e095",
   "metadata": {},
   "outputs": [
    {
     "name": "stdout",
     "output_type": "stream",
     "text": [
      "3\n"
     ]
    }
   ],
   "source": [
    "print(7//2)"
   ]
  },
  {
   "cell_type": "code",
   "execution_count": 8,
   "id": "7d60ec1b-f27a-4014-888d-029c643cbd46",
   "metadata": {},
   "outputs": [
    {
     "name": "stdout",
     "output_type": "stream",
     "text": [
      "1\n"
     ]
    }
   ],
   "source": [
    "print(7%2)"
   ]
  },
  {
   "cell_type": "markdown",
   "id": "17462c06-2652-46d3-ab37-a1426ca8e7d7",
   "metadata": {},
   "source": [
    "关于取商符号需要注意的是："
   ]
  },
  {
   "cell_type": "code",
   "execution_count": 9,
   "id": "1a0eca4f-68fc-45c2-aef0-83a62b2d9c70",
   "metadata": {},
   "outputs": [
    {
     "name": "stdout",
     "output_type": "stream",
     "text": [
      "-4\n"
     ]
    }
   ],
   "source": [
    "print(-7//2)"
   ]
  },
  {
   "cell_type": "markdown",
   "id": "df4a4f9d-5011-465d-b9e9-dabf414c99f8",
   "metadata": {},
   "source": [
    "Python语言其实是向下取商,或者说取可以的数字中最小的数字。"
   ]
  },
  {
   "cell_type": "markdown",
   "id": "15bfe47e-bddc-4081-8c78-2dec71c8f461",
   "metadata": {},
   "source": [
    "接着我们可以看一下乘方："
   ]
  },
  {
   "cell_type": "code",
   "execution_count": 11,
   "id": "0e6ad10b-16a1-496e-8b3b-e09343f29524",
   "metadata": {},
   "outputs": [
    {
     "name": "stdout",
     "output_type": "stream",
     "text": [
      "256\n"
     ]
    }
   ],
   "source": [
    "print(2**8)"
   ]
  },
  {
   "cell_type": "markdown",
   "id": "a21b6522-896a-42e3-9259-34360613797d",
   "metadata": {},
   "source": [
    "## 变量"
   ]
  }
 ],
 "metadata": {
  "kernelspec": {
   "display_name": "Python 3 (ipykernel)",
   "language": "python",
   "name": "python3"
  },
  "language_info": {
   "codemirror_mode": {
    "name": "ipython",
    "version": 3
   },
   "file_extension": ".py",
   "mimetype": "text/x-python",
   "name": "python",
   "nbconvert_exporter": "python",
   "pygments_lexer": "ipython3",
   "version": "3.10.4"
  }
 },
 "nbformat": 4,
 "nbformat_minor": 5
}
