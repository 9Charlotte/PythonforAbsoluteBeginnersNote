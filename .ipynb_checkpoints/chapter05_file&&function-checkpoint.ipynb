{
 "cells": [
  {
   "cell_type": "markdown",
   "id": "a4bc1216-d3d6-4a92-8daa-3034a9c5a3fd",
   "metadata": {},
   "source": [
    "## File 文件操作"
   ]
  },
  {
   "cell_type": "markdown",
   "id": "301bcc59-3d5e-4765-b579-68b20d34e27b",
   "metadata": {},
   "source": [
    "Python会使用open()方法来打开一个文件，并且会返回文件对象。\n",
    "\n",
    "如果文件无法被打开，则会返回OSError作为报错。\n",
    "\n",
    "使用open()打开的文件对象需要使用close()方法来进行关闭。\n",
    "\n",
    "通常来讲open()会接收两个参数:文件名和模式。"
   ]
  },
  {
   "cell_type": "code",
   "execution_count": 18,
   "id": "cf55f70f-9407-449d-ab13-7b72c6aa402a",
   "metadata": {},
   "outputs": [],
   "source": [
    "f = open(\"File01.txt\", \"w\")"
   ]
  },
  {
   "cell_type": "markdown",
   "id": "908c9100-5d81-41e1-9c3a-0844684fd7e3",
   "metadata": {},
   "source": [
    "文件对象文File01.txt，模式为\"w\"，w意味写入，如果没有这个文件，则会创建这个文件。"
   ]
  },
  {
   "cell_type": "code",
   "execution_count": 5,
   "id": "b6e02d12-a77d-496c-92ed-e2e3dfaa3f5c",
   "metadata": {},
   "outputs": [
    {
     "name": "stdout",
     "output_type": "stream",
     "text": [
      "<class '_io.TextIOWrapper'>\n"
     ]
    }
   ],
   "source": [
    "# 我们可以查看一下f的类型\n",
    "print(type(f))"
   ]
  },
  {
   "cell_type": "markdown",
   "id": "a553a733-3020-489d-965b-56eb0d5be464",
   "metadata": {},
   "source": [
    "接着让我们向文件中写入一些内容："
   ]
  },
  {
   "cell_type": "code",
   "execution_count": 19,
   "id": "4f69d1d0-6f51-4eb6-9aa3-1885a45eae5e",
   "metadata": {},
   "outputs": [
    {
     "data": {
      "text/plain": [
       "12"
      ]
     },
     "execution_count": 19,
     "metadata": {},
     "output_type": "execute_result"
    }
   ],
   "source": [
    "f.write(\"Hello World\\n\")"
   ]
  },
  {
   "cell_type": "code",
   "execution_count": 20,
   "id": "15b0e87e-8423-498f-bc66-12179d168a1d",
   "metadata": {},
   "outputs": [
    {
     "data": {
      "text/plain": [
       "46"
      ]
     },
     "execution_count": 20,
     "metadata": {},
     "output_type": "execute_result"
    }
   ],
   "source": [
    "f.write(\"This is a testing for python's file functions\\n\")"
   ]
  },
  {
   "cell_type": "code",
   "execution_count": 21,
   "id": "de8f089f-1cbb-4734-87a5-7db19d582128",
   "metadata": {},
   "outputs": [],
   "source": [
    "f.close()"
   ]
  },
  {
   "cell_type": "markdown",
   "id": "cbe0eebb-20d3-4564-92cd-3da011cd2d26",
   "metadata": {},
   "source": [
    "如果我们想要在原有的文档中添加内容呢？我们可以使用\"a\"模式来进行："
   ]
  },
  {
   "cell_type": "code",
   "execution_count": 24,
   "id": "2fb39c87-83c8-45bb-be2f-6e21117c8459",
   "metadata": {},
   "outputs": [],
   "source": [
    "with open (\"File01.txt\", \"a\") as f:\n",
    "    f.write(\"We add some things new here.\")\n",
    "    f.close"
   ]
  },
  {
   "cell_type": "markdown",
   "id": "b5103eec-6635-44a8-9ed0-ddeccd3c2f72",
   "metadata": {},
   "source": [
    "接着我们来读取和打印文件中的内容："
   ]
  },
  {
   "cell_type": "code",
   "execution_count": 25,
   "id": "f4346f80-faf7-47e0-a63e-3e7efd355ab4",
   "metadata": {},
   "outputs": [
    {
     "name": "stdout",
     "output_type": "stream",
     "text": [
      "Hello World\n",
      "\n",
      "This is a testing for python's file functions\n",
      "\n",
      "We add some things new here.We add some things new here.We add some things new here.\n"
     ]
    }
   ],
   "source": [
    "with open(\"File01.txt\", \"r\") as f:\n",
    "    for line in f.readlines():\n",
    "        print(line)\n",
    "    f.close"
   ]
  },
  {
   "cell_type": "markdown",
   "id": "f744ac58-5143-44a9-a1c5-1d30ae126286",
   "metadata": {},
   "source": [
    "不要忘记close打开的文件。"
   ]
  },
  {
   "cell_type": "markdown",
   "id": "c4ea583a-a3a0-44e0-aaa1-513ac937015f",
   "metadata": {},
   "source": [
    "## function 函数"
   ]
  },
  {
   "cell_type": "markdown",
   "id": "907545eb-115b-467b-9e99-3af7ff2f7cad",
   "metadata": {},
   "source": [
    "一些情况之下，我们需要反复的使用到一段代码，这个时候最好的做法不是反复的写这一段代码，一或者是赋值粘贴，而是将这一段代码打包成一个函数。"
   ]
  },
  {
   "cell_type": "code",
   "execution_count": 26,
   "id": "dd4ab828-472a-4696-b4e4-84a6a72fd1f5",
   "metadata": {},
   "outputs": [
    {
     "name": "stdout",
     "output_type": "stream",
     "text": [
      "Hello World!\n"
     ]
    }
   ],
   "source": [
    "# 我们来创建一个名为 hello 的函数\n",
    "def hello():\n",
    "    print(\"Hello World!\")\n",
    "\n",
    "hello()"
   ]
  },
  {
   "cell_type": "markdown",
   "id": "3325a163-5411-4c7e-84db-4b18ae5033e4",
   "metadata": {},
   "source": [
    "hello()的括号中没有任何的参数，这说明了这个函数直接调用就可以了。\n",
    "\n",
    "但是有一些情况之下我们需要传入一些数据来使用，这个时候我们就需要设置参数了："
   ]
  },
  {
   "cell_type": "code",
   "execution_count": 27,
   "id": "35090552-8dda-4647-b85f-a449ecf43e5b",
   "metadata": {},
   "outputs": [
    {
     "name": "stdout",
     "output_type": "stream",
     "text": [
      "Hello, Bob\n"
     ]
    }
   ],
   "source": [
    "def sayHi(name):\n",
    "    print(f\"Hello, {name}\")\n",
    "\n",
    "sayHi(\"Bob\")"
   ]
  },
  {
   "cell_type": "markdown",
   "id": "55f42549-1f47-4572-9833-6a6704ef9a4a",
   "metadata": {},
   "source": [
    "我们来写一个fib函数："
   ]
  },
  {
   "cell_type": "code",
   "execution_count": 28,
   "id": "0a482339-6c98-4834-85ec-48022760a703",
   "metadata": {},
   "outputs": [
    {
     "data": {
      "text/plain": [
       "6765"
      ]
     },
     "execution_count": 28,
     "metadata": {},
     "output_type": "execute_result"
    }
   ],
   "source": [
    "def fib(n):\n",
    "    \n",
    "    a = 0\n",
    "    b = 1\n",
    "    \n",
    "    for i in range(n):\n",
    "        a, b = b, a+b\n",
    "    \n",
    "    return a\n",
    "\n",
    "fib(20)"
   ]
  },
  {
   "cell_type": "markdown",
   "id": "5ab544b2-5f6e-40d5-9065-770f3bed8f3a",
   "metadata": {},
   "source": [
    "那要是我们不知道会有多少个数据被传入呢？"
   ]
  },
  {
   "cell_type": "code",
   "execution_count": 30,
   "id": "ee92f99a-2a47-4005-b679-b2e7b2f9996b",
   "metadata": {},
   "outputs": [
    {
     "data": {
      "text/plain": [
       "3.0"
      ]
     },
     "execution_count": 30,
     "metadata": {},
     "output_type": "execute_result"
    }
   ],
   "source": [
    "def cal_mean(*numbers):\n",
    "    '''这个函数会被用来计算平均值'''\n",
    "    \n",
    "    mean = sum(numbers)/len(numbers)\n",
    "    return mean\n",
    "\n",
    "cal_mean(1, 2, 3, 4, 5)"
   ]
  }
 ],
 "metadata": {
  "kernelspec": {
   "display_name": "Python 3 (ipykernel)",
   "language": "python",
   "name": "python3"
  },
  "language_info": {
   "codemirror_mode": {
    "name": "ipython",
    "version": 3
   },
   "file_extension": ".py",
   "mimetype": "text/x-python",
   "name": "python",
   "nbconvert_exporter": "python",
   "pygments_lexer": "ipython3",
   "version": "3.10.4"
  }
 },
 "nbformat": 4,
 "nbformat_minor": 5
}
